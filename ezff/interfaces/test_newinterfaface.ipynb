{
 "cells": [
  {
   "cell_type": "code",
   "execution_count": 9,
   "metadata": {},
   "outputs": [],
   "source": [
    "import tomllib\n",
    "\n",
    "toml_str = \"\"\"\n",
    "[gulp]\n",
    "path = 'C:\\\\Users\\\\Anton\\\\Desktop\\\\Chemistry\\\\gulp-6.0\\\\Exe\\\\gulp.exe'\n",
    "[gulp.options]\n",
    "xtol = 12\n",
    "time = 50\n",
    "\n",
    "[MOO]\n",
    "bounds = 'D:\\Anton\\QMdata\\Bandura_Grant_EZFF\\HfS2\\GT_HfS2\\New\\variable_bounds_HfS2_fixed_new.txt'\n",
    "template 'D:\\Anton\\QMdata\\Bandura_Grant_EZFF\\HfS2\\GT_HfS2\\New\\template_HfS2_fixed_new.txt'\n",
    "[MOO.algorithm]\n",
    "name = \"DE\"\n",
    "population = 500\n",
    "gen = 300\n",
    "[MOO.structures]\n",
    "[MOO.structures.1T_HfS2]\n",
    "# path = '.../*.cif'\n",
    "gulp_structure = '''cell\n",
    "3.63   3.63   5.84   90.0000   90.0000  120.0000   1 1 1 0 0 0#  D.T.Hodul et al. J. Solid State Chem. (1984), 54, 438, 446\n",
    "fractional\n",
    "Hf core   0.00000000000  0.00000000000  0.0000    0.000  0 0 0#\n",
    "S  core   0.33333333333  0.66666666667  0.2500    0.000  0 0 1#\n",
    "space\n",
    "164'''\n",
    "\"\"\"\n",
    "\n",
    "data = tomllib.loads(toml_str)"
   ]
  },
  {
   "cell_type": "code",
   "execution_count": 10,
   "metadata": {},
   "outputs": [
    {
     "data": {
      "text/plain": [
       "{'path': 'D:\\\\Anton\\\\QMdata\\\\C_MPDS_S1954111.cif', 'bulk modulus': '436.5 GPa'}"
      ]
     },
     "execution_count": 10,
     "metadata": {},
     "output_type": "execute_result"
    }
   ],
   "source": [
    "data['structures']['diamond']"
   ]
  },
  {
   "cell_type": "code",
   "execution_count": 83,
   "metadata": {},
   "outputs": [],
   "source": [
    "from ase.calculators.gulp import GULP, Conditions"
   ]
  },
  {
   "cell_type": "code",
   "execution_count": 74,
   "metadata": {},
   "outputs": [
    {
     "name": "stderr",
     "output_type": "stream",
     "text": [
      "c:\\Users\\Anton\\miniforge3\\envs\\ezff2\\Lib\\site-packages\\ase\\io\\cif.py:408: UserWarning: crystal system 'orthorhombic' is not interpreted for space group Spacegroup(64, setting=1). This may result in wrong setting!\n",
      "  warnings.warn(\n"
     ]
    }
   ],
   "source": [
    "import ase.io\n",
    "\n",
    "path = data['structures']['black_P']['path']\n",
    "\n",
    "atoms = ase.io.read(path)"
   ]
  },
  {
   "cell_type": "code",
   "execution_count": 75,
   "metadata": {},
   "outputs": [
    {
     "data": {
      "text/plain": [
       "{'spacegroup': Spacegroup(64, setting=1),\n",
       " 'unit_cell': 'conventional',\n",
       " 'occupancy': {'0': {'P': 1.0}}}"
      ]
     },
     "execution_count": 75,
     "metadata": {},
     "output_type": "execute_result"
    }
   ],
   "source": [
    "atoms.info"
   ]
  },
  {
   "cell_type": "code",
   "execution_count": 46,
   "metadata": {},
   "outputs": [],
   "source": [
    "from spglib import get_spacegroup"
   ]
  },
  {
   "cell_type": "code",
   "execution_count": 47,
   "metadata": {},
   "outputs": [
    {
     "data": {
      "text/plain": [
       "'Fd-3m (227)'"
      ]
     },
     "execution_count": 47,
     "metadata": {},
     "output_type": "execute_result"
    }
   ],
   "source": [
    "get_spacegroup((atoms.cell,\n",
    "                atoms.get_scaled_positions(),\n",
    "                atoms.numbers),\n",
    "               symprec=1e-2)"
   ]
  },
  {
   "cell_type": "code",
   "execution_count": 41,
   "metadata": {},
   "outputs": [
    {
     "name": "stdout",
     "output_type": "stream",
     "text": [
      "Cell([[2.5, 0.0, 0.0], [-1.2499999999999996, 2.165063509461097, 0.0], [0.0, 0.0, 15.0]])\n"
     ]
    }
   ],
   "source": [
    "from ase.cell import Cell\n",
    "\n",
    "cell = Cell.fromcellpar([2.5, 2.5, 15, 90, 90, 120])\n",
    "print(cell)"
   ]
  },
  {
   "cell_type": "code",
   "execution_count": 38,
   "metadata": {},
   "outputs": [],
   "source": [
    "import numpy as np\n",
    "from ase import Atoms\n",
    "\n",
    "atoms = Atoms('N3', [(0, 0, 0), (1, 0, 0), (0, 0, 1)])\n",
    "atoms.set_positions([(2, 0, 0), (1, 1, 0), (2, 2, 0)])"
   ]
  },
  {
   "cell_type": "code",
   "execution_count": 39,
   "metadata": {},
   "outputs": [],
   "source": [
    "atoms.set_cell(cell, scale_atoms=True)\n",
    "atoms.set_pbc((True, True, True))"
   ]
  },
  {
   "cell_type": "code",
   "execution_count": 40,
   "metadata": {},
   "outputs": [
    {
     "data": {
      "text/plain": [
       "array([[5.        , 0.        , 0.        ],\n",
       "       [1.25      , 2.16506351, 0.        ],\n",
       "       [2.5       , 4.33012702, 0.        ]])"
      ]
     },
     "execution_count": 40,
     "metadata": {},
     "output_type": "execute_result"
    }
   ],
   "source": [
    "atoms.get_positions()"
   ]
  },
  {
   "cell_type": "code",
   "execution_count": 21,
   "metadata": {},
   "outputs": [],
   "source": [
    "import spglib"
   ]
  },
  {
   "cell_type": "code",
   "execution_count": 4,
   "metadata": {},
   "outputs": [],
   "source": [
    "import numpy as np\n",
    "import spglib\n",
    "\n",
    "lattice = np.array([[0.0, 0.5, 0.5],\n",
    "                    [0.5, 0.0, 0.5],\n",
    "                    [0.5, 0.5, 0.0]]) * 5.4\n",
    "positions = [[0.875, 0.875, 0.875],\n",
    "            [0.125, 0.125, 0.125]]\n",
    "numbers= [1,] * 2\n",
    "cell = (lattice, positions, numbers)"
   ]
  },
  {
   "cell_type": "code",
   "execution_count": 5,
   "metadata": {},
   "outputs": [
    {
     "data": {
      "text/plain": [
       "(array([[0. , 2.7, 2.7],\n",
       "        [2.7, 0. , 2.7],\n",
       "        [2.7, 2.7, 0. ]]),\n",
       " [[0.875, 0.875, 0.875], [0.125, 0.125, 0.125]],\n",
       " [1, 1])"
      ]
     },
     "execution_count": 5,
     "metadata": {},
     "output_type": "execute_result"
    }
   ],
   "source": [
    "cell"
   ]
  },
  {
   "cell_type": "code",
   "execution_count": 6,
   "metadata": {},
   "outputs": [
    {
     "name": "stdout",
     "output_type": "stream",
     "text": [
      "Fd-3m (227)\n"
     ]
    }
   ],
   "source": [
    "print(spglib.get_spacegroup(cell, symprec=1e-5))"
   ]
  },
  {
   "cell_type": "code",
   "execution_count": null,
   "metadata": {},
   "outputs": [],
   "source": []
  }
 ],
 "metadata": {
  "kernelspec": {
   "display_name": "ezff2",
   "language": "python",
   "name": "python3"
  },
  "language_info": {
   "codemirror_mode": {
    "name": "ipython",
    "version": 3
   },
   "file_extension": ".py",
   "mimetype": "text/x-python",
   "name": "python",
   "nbconvert_exporter": "python",
   "pygments_lexer": "ipython3",
   "version": "3.11.9"
  }
 },
 "nbformat": 4,
 "nbformat_minor": 2
}
